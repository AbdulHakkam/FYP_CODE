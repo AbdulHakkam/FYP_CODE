{
  "cells": [
    {
      "cell_type": "markdown",
      "metadata": {
        "id": "cRJf01iVhCwg"
      },
      "source": []
    },
    {
      "cell_type": "markdown",
      "metadata": {
        "id": "Zy-8ibiOfR51"
      },
      "source": [
        "### Implementation"
      ]
    },
    {
      "cell_type": "code",
      "execution_count": 1,
      "metadata": {
        "id": "fT-c_3PeJ-Qk"
      },
      "outputs": [
        {
          "name": "stdout",
          "output_type": "stream",
          "text": [
            "WARNING:tensorflow:From c:\\Users\\Abdul Hakkam\\AppData\\Local\\Programs\\Python\\Python39\\lib\\site-packages\\keras\\src\\losses.py:2976: The name tf.losses.sparse_softmax_cross_entropy is deprecated. Please use tf.compat.v1.losses.sparse_softmax_cross_entropy instead.\n",
            "\n"
          ]
        }
      ],
      "source": [
        "import numpy as np\n",
        "import pandas as pd\n",
        "import matplotlib.pyplot as plt\n",
        "import tensorflow as tf"
      ]
    },
    {
      "cell_type": "code",
      "execution_count": 2,
      "metadata": {
        "id": "qH8L5Tr2fYnn"
      },
      "outputs": [],
      "source": [
        "df = pd.read_csv(\"dataset/output_v4.csv\", encoding='latin-1')"
      ]
    },
    {
      "cell_type": "code",
      "execution_count": 3,
      "metadata": {
        "colab": {
          "base_uri": "https://localhost:8080/"
        },
        "id": "hA5gGZ87KBk3",
        "outputId": "b2c501a3-d3eb-4737-b09a-52b8554ed3f2"
      },
      "outputs": [
        {
          "name": "stdout",
          "output_type": "stream",
          "text": [
            "PATH     0\n",
            "VALUE    0\n",
            "LABEL    0\n",
            "dtype: int64\n"
          ]
        }
      ],
      "source": [
        "#Removing the null values\n",
        "df = df.dropna()\n",
        "print(df.isna().sum())"
      ]
    },
    {
      "cell_type": "code",
      "execution_count": 4,
      "metadata": {
        "colab": {
          "base_uri": "https://localhost:8080/"
        },
        "id": "JN5aCf_PKITR",
        "outputId": "69e1b23a-cc31-4629-e799-258b4b6c8dba"
      },
      "outputs": [
        {
          "name": "stdout",
          "output_type": "stream",
          "text": [
            "DESCRIPTION    2023\n",
            "CVE            2000\n",
            "SEVERITY       1966\n",
            "Name: LABEL, dtype: int64\n"
          ]
        }
      ],
      "source": [
        "value_counts = df['LABEL'].value_counts()\n",
        "print(value_counts)"
      ]
    },
    {
      "cell_type": "code",
      "execution_count": 5,
      "metadata": {
        "colab": {
          "base_uri": "https://localhost:8080/"
        },
        "id": "otklcJDnIVsp",
        "outputId": "49bcda63-26c9-41e8-a729-967c1c830e91"
      },
      "outputs": [
        {
          "name": "stderr",
          "output_type": "stream",
          "text": [
            "C:\\Users\\Abdul Hakkam\\AppData\\Local\\Temp\\ipykernel_22380\\3479448783.py:1: FutureWarning: The default value of regex will change from True to False in a future version. In addition, single character regular expressions will *not* be treated as literal strings when regex=True.\n",
            "  df['PATH'] = df['PATH'].str.replace('.', ' ').str.lower()\n"
          ]
        }
      ],
      "source": [
        "df['PATH'] = df['PATH'].str.replace('.', ' ').str.lower()\n",
        "df['VALUE'] = df['VALUE'].str.replace('\\d+', 'number', regex=True)\n"
      ]
    },
    {
      "cell_type": "code",
      "execution_count": 6,
      "metadata": {
        "id": "8_XP7GxgKK5f"
      },
      "outputs": [],
      "source": [
        "df['text'] = df[\"PATH\"].astype(str) + \" \" +df[\"VALUE\"].astype(str)\n",
        "df['label'] = df[\"LABEL\"]"
      ]
    },
    {
      "cell_type": "code",
      "execution_count": 7,
      "metadata": {
        "colab": {
          "base_uri": "https://localhost:8080/",
          "height": 206
        },
        "id": "81SgsWIwi6HM",
        "outputId": "2ddfe425-6806-4141-d334-d6ebece64c82"
      },
      "outputs": [
        {
          "data": {
            "text/html": [
              "<div>\n",
              "<style scoped>\n",
              "    .dataframe tbody tr th:only-of-type {\n",
              "        vertical-align: middle;\n",
              "    }\n",
              "\n",
              "    .dataframe tbody tr th {\n",
              "        vertical-align: top;\n",
              "    }\n",
              "\n",
              "    .dataframe thead th {\n",
              "        text-align: right;\n",
              "    }\n",
              "</style>\n",
              "<table border=\"1\" class=\"dataframe\">\n",
              "  <thead>\n",
              "    <tr style=\"text-align: right;\">\n",
              "      <th></th>\n",
              "      <th>PATH</th>\n",
              "      <th>VALUE</th>\n",
              "      <th>LABEL</th>\n",
              "      <th>text</th>\n",
              "      <th>label</th>\n",
              "    </tr>\n",
              "  </thead>\n",
              "  <tbody>\n",
              "    <tr>\n",
              "      <th>0</th>\n",
              "      <td>data[] component_versions more_details cve</td>\n",
              "      <td>CVE-number-number</td>\n",
              "      <td>CVE</td>\n",
              "      <td>data[] component_versions more_details cve CVE...</td>\n",
              "      <td>CVE</td>\n",
              "    </tr>\n",
              "    <tr>\n",
              "      <th>1</th>\n",
              "      <td>data[] component_versions more_details cves[] cve</td>\n",
              "      <td>CVE-number-number</td>\n",
              "      <td>CVE</td>\n",
              "      <td>data[] component_versions more_details cves[] ...</td>\n",
              "      <td>CVE</td>\n",
              "    </tr>\n",
              "    <tr>\n",
              "      <th>2</th>\n",
              "      <td>data[] component_versions more_details cves[] cve</td>\n",
              "      <td>CVE-number-number</td>\n",
              "      <td>CVE</td>\n",
              "      <td>data[] component_versions more_details cves[] ...</td>\n",
              "      <td>CVE</td>\n",
              "    </tr>\n",
              "    <tr>\n",
              "      <th>3</th>\n",
              "      <td>data[] component_versions more_details cve</td>\n",
              "      <td>CVE-number-number</td>\n",
              "      <td>CVE</td>\n",
              "      <td>data[] component_versions more_details cve CVE...</td>\n",
              "      <td>CVE</td>\n",
              "    </tr>\n",
              "    <tr>\n",
              "      <th>4</th>\n",
              "      <td>artifacts[] issues[] cves[] idartifacts[] issu...</td>\n",
              "      <td>CVE-number-number</td>\n",
              "      <td>CVE</td>\n",
              "      <td>artifacts[] issues[] cves[] idartifacts[] issu...</td>\n",
              "      <td>CVE</td>\n",
              "    </tr>\n",
              "  </tbody>\n",
              "</table>\n",
              "</div>"
            ],
            "text/plain": [
              "                                                PATH              VALUE LABEL  \\\n",
              "0         data[] component_versions more_details cve  CVE-number-number   CVE   \n",
              "1  data[] component_versions more_details cves[] cve  CVE-number-number   CVE   \n",
              "2  data[] component_versions more_details cves[] cve  CVE-number-number   CVE   \n",
              "3         data[] component_versions more_details cve  CVE-number-number   CVE   \n",
              "4  artifacts[] issues[] cves[] idartifacts[] issu...  CVE-number-number   CVE   \n",
              "\n",
              "                                                text label  \n",
              "0  data[] component_versions more_details cve CVE...   CVE  \n",
              "1  data[] component_versions more_details cves[] ...   CVE  \n",
              "2  data[] component_versions more_details cves[] ...   CVE  \n",
              "3  data[] component_versions more_details cve CVE...   CVE  \n",
              "4  artifacts[] issues[] cves[] idartifacts[] issu...   CVE  "
            ]
          },
          "execution_count": 7,
          "metadata": {},
          "output_type": "execute_result"
        }
      ],
      "source": [
        "df.head()"
      ]
    },
    {
      "cell_type": "markdown",
      "metadata": {
        "id": "YHYSAssi0vzS"
      },
      "source": [
        "# Word2vec"
      ]
    },
    {
      "cell_type": "code",
      "execution_count": 8,
      "metadata": {
        "id": "XqCVCsg0XKuA"
      },
      "outputs": [],
      "source": [
        "import gensim\n",
        "from sklearn.cluster import KMeans"
      ]
    },
    {
      "cell_type": "code",
      "execution_count": 9,
      "metadata": {
        "id": "CSse3edIXP7e"
      },
      "outputs": [],
      "source": [
        "tokenized_texts = [text.split() for text in df[\"text\"].tolist()]"
      ]
    },
    {
      "cell_type": "code",
      "execution_count": 10,
      "metadata": {
        "id": "uDlUuyQPXmr4"
      },
      "outputs": [],
      "source": [
        "w2vModel = gensim.models.Word2Vec(tokenized_texts, vector_size=100, window=5, min_count=1, sg=0)"
      ]
    },
    {
      "cell_type": "markdown",
      "metadata": {},
      "source": []
    },
    {
      "cell_type": "code",
      "execution_count": 11,
      "metadata": {
        "id": "T2DW_RpXXtP3"
      },
      "outputs": [],
      "source": [
        "def average_word_vectors(words, model, vocabulary, num_features):\n",
        "    feature_vector = np.zeros((num_features,), dtype=\"float64\")\n",
        "    n_words = 0\n",
        "\n",
        "    for word in words:\n",
        "        if word in vocabulary:\n",
        "            n_words += 1\n",
        "            feature_vector = np.add(feature_vector, model.wv[word])\n",
        "\n",
        "    if n_words > 0:\n",
        "        feature_vector = np.divide(feature_vector, n_words)\n",
        "\n",
        "    return feature_vector"
      ]
    },
    {
      "cell_type": "code",
      "execution_count": 12,
      "metadata": {
        "id": "_D6x8G3YXu0O"
      },
      "outputs": [],
      "source": [
        "vocab_wv = w2vModel.wv.index_to_key\n"
      ]
    },
    {
      "cell_type": "code",
      "execution_count": 13,
      "metadata": {
        "id": "SZerW8xdXveN"
      },
      "outputs": [],
      "source": [
        "vectorized_texts = [average_word_vectors(text, w2vModel, vocab_wv, 100) for text in tokenized_texts]"
      ]
    },
    {
      "cell_type": "code",
      "execution_count": 14,
      "metadata": {
        "colab": {
          "base_uri": "https://localhost:8080/"
        },
        "id": "BgzMpiPdn4qn",
        "outputId": "11c28254-e624-4d3e-d2e1-4721e631624a"
      },
      "outputs": [
        {
          "name": "stdout",
          "output_type": "stream",
          "text": [
            "5989\n"
          ]
        }
      ],
      "source": [
        "print(len(vectorized_texts))"
      ]
    },
    {
      "cell_type": "markdown",
      "metadata": {},
      "source": [
        "# KMEANS"
      ]
    },
    {
      "cell_type": "code",
      "execution_count": 15,
      "metadata": {
        "colab": {
          "base_uri": "https://localhost:8080/",
          "height": 112
        },
        "id": "nKeDPgPEZRk-",
        "outputId": "d4a393f7-8fd1-4e6a-9825-37617d870c69"
      },
      "outputs": [
        {
          "name": "stderr",
          "output_type": "stream",
          "text": [
            "c:\\Users\\Abdul Hakkam\\AppData\\Local\\Programs\\Python\\Python39\\lib\\site-packages\\sklearn\\cluster\\_kmeans.py:870: FutureWarning: The default value of `n_init` will change from 10 to 'auto' in 1.4. Set the value of `n_init` explicitly to suppress the warning\n",
            "  warnings.warn(\n"
          ]
        },
        {
          "data": {
            "text/html": [
              "<style>#sk-container-id-1 {color: black;background-color: white;}#sk-container-id-1 pre{padding: 0;}#sk-container-id-1 div.sk-toggleable {background-color: white;}#sk-container-id-1 label.sk-toggleable__label {cursor: pointer;display: block;width: 100%;margin-bottom: 0;padding: 0.3em;box-sizing: border-box;text-align: center;}#sk-container-id-1 label.sk-toggleable__label-arrow:before {content: \"▸\";float: left;margin-right: 0.25em;color: #696969;}#sk-container-id-1 label.sk-toggleable__label-arrow:hover:before {color: black;}#sk-container-id-1 div.sk-estimator:hover label.sk-toggleable__label-arrow:before {color: black;}#sk-container-id-1 div.sk-toggleable__content {max-height: 0;max-width: 0;overflow: hidden;text-align: left;background-color: #f0f8ff;}#sk-container-id-1 div.sk-toggleable__content pre {margin: 0.2em;color: black;border-radius: 0.25em;background-color: #f0f8ff;}#sk-container-id-1 input.sk-toggleable__control:checked~div.sk-toggleable__content {max-height: 200px;max-width: 100%;overflow: auto;}#sk-container-id-1 input.sk-toggleable__control:checked~label.sk-toggleable__label-arrow:before {content: \"▾\";}#sk-container-id-1 div.sk-estimator input.sk-toggleable__control:checked~label.sk-toggleable__label {background-color: #d4ebff;}#sk-container-id-1 div.sk-label input.sk-toggleable__control:checked~label.sk-toggleable__label {background-color: #d4ebff;}#sk-container-id-1 input.sk-hidden--visually {border: 0;clip: rect(1px 1px 1px 1px);clip: rect(1px, 1px, 1px, 1px);height: 1px;margin: -1px;overflow: hidden;padding: 0;position: absolute;width: 1px;}#sk-container-id-1 div.sk-estimator {font-family: monospace;background-color: #f0f8ff;border: 1px dotted black;border-radius: 0.25em;box-sizing: border-box;margin-bottom: 0.5em;}#sk-container-id-1 div.sk-estimator:hover {background-color: #d4ebff;}#sk-container-id-1 div.sk-parallel-item::after {content: \"\";width: 100%;border-bottom: 1px solid gray;flex-grow: 1;}#sk-container-id-1 div.sk-label:hover label.sk-toggleable__label {background-color: #d4ebff;}#sk-container-id-1 div.sk-serial::before {content: \"\";position: absolute;border-left: 1px solid gray;box-sizing: border-box;top: 0;bottom: 0;left: 50%;z-index: 0;}#sk-container-id-1 div.sk-serial {display: flex;flex-direction: column;align-items: center;background-color: white;padding-right: 0.2em;padding-left: 0.2em;position: relative;}#sk-container-id-1 div.sk-item {position: relative;z-index: 1;}#sk-container-id-1 div.sk-parallel {display: flex;align-items: stretch;justify-content: center;background-color: white;position: relative;}#sk-container-id-1 div.sk-item::before, #sk-container-id-1 div.sk-parallel-item::before {content: \"\";position: absolute;border-left: 1px solid gray;box-sizing: border-box;top: 0;bottom: 0;left: 50%;z-index: -1;}#sk-container-id-1 div.sk-parallel-item {display: flex;flex-direction: column;z-index: 1;position: relative;background-color: white;}#sk-container-id-1 div.sk-parallel-item:first-child::after {align-self: flex-end;width: 50%;}#sk-container-id-1 div.sk-parallel-item:last-child::after {align-self: flex-start;width: 50%;}#sk-container-id-1 div.sk-parallel-item:only-child::after {width: 0;}#sk-container-id-1 div.sk-dashed-wrapped {border: 1px dashed gray;margin: 0 0.4em 0.5em 0.4em;box-sizing: border-box;padding-bottom: 0.4em;background-color: white;}#sk-container-id-1 div.sk-label label {font-family: monospace;font-weight: bold;display: inline-block;line-height: 1.2em;}#sk-container-id-1 div.sk-label-container {text-align: center;}#sk-container-id-1 div.sk-container {/* jupyter's `normalize.less` sets `[hidden] { display: none; }` but bootstrap.min.css set `[hidden] { display: none !important; }` so we also need the `!important` here to be able to override the default hidden behavior on the sphinx rendered scikit-learn.org. See: https://github.com/scikit-learn/scikit-learn/issues/21755 */display: inline-block !important;position: relative;}#sk-container-id-1 div.sk-text-repr-fallback {display: none;}</style><div id=\"sk-container-id-1\" class=\"sk-top-container\"><div class=\"sk-text-repr-fallback\"><pre>KMeans(n_clusters=3)</pre><b>In a Jupyter environment, please rerun this cell to show the HTML representation or trust the notebook. <br />On GitHub, the HTML representation is unable to render, please try loading this page with nbviewer.org.</b></div><div class=\"sk-container\" hidden><div class=\"sk-item\"><div class=\"sk-estimator sk-toggleable\"><input class=\"sk-toggleable__control sk-hidden--visually\" id=\"sk-estimator-id-1\" type=\"checkbox\" checked><label for=\"sk-estimator-id-1\" class=\"sk-toggleable__label sk-toggleable__label-arrow\">KMeans</label><div class=\"sk-toggleable__content\"><pre>KMeans(n_clusters=3)</pre></div></div></div></div></div>"
            ],
            "text/plain": [
              "KMeans(n_clusters=3)"
            ]
          },
          "execution_count": 15,
          "metadata": {},
          "output_type": "execute_result"
        }
      ],
      "source": [
        "kmeans = KMeans(n_clusters=3)\n",
        "kmeans.fit(vectorized_texts)"
      ]
    },
    {
      "cell_type": "code",
      "execution_count": 16,
      "metadata": {
        "colab": {
          "base_uri": "https://localhost:8080/",
          "height": 1000
        },
        "id": "6bkJ05qTX051",
        "outputId": "a8724602-c189-4e2e-c3d8-1fe4994f1654"
      },
      "outputs": [],
      "source": [
        "# wcss = []\n",
        "\n",
        "# k_values = range(1, 20)\n",
        "\n",
        "# # Calculate WCSS for each K\n",
        "# for k in k_values:\n",
        "#     kmeans = KMeans(n_clusters=k)\n",
        "#     kmeans.fit(vectorized_texts)\n",
        "#     wcss.append(kmeans.inertia_)\n",
        "\n",
        "# # Plot the WCSS values\n",
        "# plt.figure(figsize=(8, 4))\n",
        "# plt.plot(k_values, wcss, marker='o', linestyle='-', color='b')\n",
        "# plt.title('WCSS vs. Number of Clusters (K)')\n",
        "# plt.xlabel('Number of Clusters (K)')\n",
        "# plt.ylabel('Within-Cluster Sum of Squares (WCSS)')\n",
        "# plt.grid()\n",
        "# plt.show()\n"
      ]
    },
    {
      "cell_type": "code",
      "execution_count": 17,
      "metadata": {
        "colab": {
          "base_uri": "https://localhost:8080/",
          "height": 564
        },
        "id": "HQ-AAWyUZvzG",
        "outputId": "a1114ffa-9733-424d-ecbc-7b79909cd9e0"
      },
      "outputs": [
        {
          "data": {
            "image/png": "[encoded data removed]",
            "text/plain": [
              "<Figure size 800x600 with 1 Axes>"
            ]
          },
          "metadata": {},
          "output_type": "display_data"
        }
      ],
      "source": [
        "from sklearn.decomposition import PCA\n",
        "\n",
        "# Assuming you have already performed K-means clustering and have cluster labels\n",
        "# Replace 'cluster_labels' with your actual cluster labels\n",
        "cluster_labels = kmeans.labels_  # Replace with your cluster labels\n",
        "\n",
        "# Reduce the dimensionality of your vectorized texts for plotting (e.g., using PCA)\n",
        "pca = PCA(n_components=2)  # You can adjust the number of components as needed\n",
        "vectorized_texts_2d = pca.fit_transform(vectorized_texts)\n",
        "\n",
        "# Plot the clusters\n",
        "unique_labels = np.unique(cluster_labels)\n",
        "\n",
        "plt.figure(figsize=(8, 6))\n",
        "\n",
        "for label in unique_labels:\n",
        "    plt.scatter(\n",
        "        vectorized_texts_2d[cluster_labels == label, 0],\n",
        "        vectorized_texts_2d[cluster_labels == label, 1],\n",
        "        label=f'Cluster {label}',\n",
        "        alpha=0.7,\n",
        "    )\n",
        "\n",
        "plt.title('K-means Clustering of Text Data')\n",
        "plt.xlabel('Principal Component 1')\n",
        "plt.ylabel('Principal Component 2')\n",
        "plt.legend()\n",
        "plt.grid()\n",
        "plt.show()"
      ]
    },
    {
      "cell_type": "code",
      "execution_count": 18,
      "metadata": {
        "id": "ErJfiqecYAm2"
      },
      "outputs": [],
      "source": [
        "distances = kmeans.transform(vectorized_texts)"
      ]
    },
    {
      "cell_type": "code",
      "execution_count": 19,
      "metadata": {
        "colab": {
          "base_uri": "https://localhost:8080/"
        },
        "id": "rGmd7SODjX63",
        "outputId": "b9e3b161-a9b1-4877-b4ad-43a52e7cad2b"
      },
      "outputs": [
        {
          "name": "stdout",
          "output_type": "stream",
          "text": [
            "[[1.79793699 4.29076897 0.49378744]\n",
            " [1.53619772 4.28119742 0.50508567]\n",
            " [1.53619772 4.28119742 0.50508567]\n",
            " ...\n",
            " [0.63343279 3.75644105 1.10790848]\n",
            " [1.28234082 3.80729103 0.62972878]\n",
            " [0.98827782 3.83542543 1.79254151]]\n"
          ]
        }
      ],
      "source": [
        "print(distances)"
      ]
    },
    {
      "cell_type": "markdown",
      "metadata": {
        "id": "9FZciVwXWo6g"
      },
      "source": [
        "# MODEL - LSTM"
      ]
    },
    {
      "cell_type": "code",
      "execution_count": 20,
      "metadata": {
        "id": "MlrF7G8zBQr9"
      },
      "outputs": [],
      "source": [
        "df = df.sort_values(by='label', ascending=True, ignore_index= True)\n",
        "columns = df['label'].unique()"
      ]
    },
    {
      "cell_type": "code",
      "execution_count": 21,
      "metadata": {
        "id": "7oGJN2MEZsEG"
      },
      "outputs": [],
      "source": [
        "from sklearn.preprocessing import LabelEncoder\n",
        "\n",
        "# Create a label encoder object\n",
        "label_encoder = LabelEncoder()\n",
        "\n",
        "# Fit label encoder and return encoded labels\n",
        "int_encoded = label_encoder.fit_transform(df['label'].values)"
      ]
    },
    {
      "cell_type": "code",
      "execution_count": 22,
      "metadata": {
        "id": "Zriv0lhVkoMr"
      },
      "outputs": [],
      "source": [
        "from tensorflow.keras.utils import to_categorical\n",
        "\n",
        "# One-hot encode the integer encoded labels\n",
        "one_hot_encoded = to_categorical(int_encoded, num_classes=3)\n"
      ]
    },
    {
      "cell_type": "code",
      "execution_count": 23,
      "metadata": {
        "id": "A2OAcZPlmGIE"
      },
      "outputs": [],
      "source": [
        "df = df.dropna()"
      ]
    },
    {
      "cell_type": "code",
      "execution_count": 24,
      "metadata": {
        "id": "JSs74Hd-lXEb"
      },
      "outputs": [],
      "source": [
        "one_hot_df = pd.DataFrame(one_hot_encoded, columns=df['label'].unique())"
      ]
    },
    {
      "cell_type": "code",
      "execution_count": 25,
      "metadata": {
        "id": "4zPgGmvsAcOd"
      },
      "outputs": [],
      "source": [
        "# Concatenate this new DataFrame with the original df\n",
        "df = pd.concat([df.drop('label', axis=1), one_hot_df], axis=1)"
      ]
    },
    {
      "cell_type": "code",
      "execution_count": 26,
      "metadata": {
        "colab": {
          "base_uri": "https://localhost:8080/",
          "height": 206
        },
        "id": "Owk34PvM8gpY",
        "outputId": "dc6ce0d7-b07f-47c7-eb1f-ce2608d6cba0"
      },
      "outputs": [
        {
          "data": {
            "text/html": [
              "<div>\n",
              "<style scoped>\n",
              "    .dataframe tbody tr th:only-of-type {\n",
              "        vertical-align: middle;\n",
              "    }\n",
              "\n",
              "    .dataframe tbody tr th {\n",
              "        vertical-align: top;\n",
              "    }\n",
              "\n",
              "    .dataframe thead th {\n",
              "        text-align: right;\n",
              "    }\n",
              "</style>\n",
              "<table border=\"1\" class=\"dataframe\">\n",
              "  <thead>\n",
              "    <tr style=\"text-align: right;\">\n",
              "      <th></th>\n",
              "      <th>PATH</th>\n",
              "      <th>VALUE</th>\n",
              "      <th>LABEL</th>\n",
              "      <th>text</th>\n",
              "      <th>CVE</th>\n",
              "      <th>DESCRIPTION</th>\n",
              "      <th>SEVERITY</th>\n",
              "    </tr>\n",
              "  </thead>\n",
              "  <tbody>\n",
              "    <tr>\n",
              "      <th>0</th>\n",
              "      <td>data[] component_versions more_details cve</td>\n",
              "      <td>CVE-number-number</td>\n",
              "      <td>CVE</td>\n",
              "      <td>data[] component_versions more_details cve CVE...</td>\n",
              "      <td>1.0</td>\n",
              "      <td>0.0</td>\n",
              "      <td>0.0</td>\n",
              "    </tr>\n",
              "    <tr>\n",
              "      <th>1</th>\n",
              "      <td>data[] component_versions more_details cves[] cve</td>\n",
              "      <td>CVE-number-number</td>\n",
              "      <td>CVE</td>\n",
              "      <td>data[] component_versions more_details cves[] ...</td>\n",
              "      <td>1.0</td>\n",
              "      <td>0.0</td>\n",
              "      <td>0.0</td>\n",
              "    </tr>\n",
              "    <tr>\n",
              "      <th>2</th>\n",
              "      <td>data[] component_versions more_details cve</td>\n",
              "      <td>CVE-number-number</td>\n",
              "      <td>CVE</td>\n",
              "      <td>data[] component_versions more_details cve CVE...</td>\n",
              "      <td>1.0</td>\n",
              "      <td>0.0</td>\n",
              "      <td>0.0</td>\n",
              "    </tr>\n",
              "    <tr>\n",
              "      <th>3</th>\n",
              "      <td>data[] component_versions more_details cves[] ...</td>\n",
              "      <td>CVE-number-number</td>\n",
              "      <td>CVE</td>\n",
              "      <td>data[] component_versions more_details cves[] ...</td>\n",
              "      <td>1.0</td>\n",
              "      <td>0.0</td>\n",
              "      <td>0.0</td>\n",
              "    </tr>\n",
              "    <tr>\n",
              "      <th>4</th>\n",
              "      <td>artifacts[] issues[] cves[] id</td>\n",
              "      <td>CVE-number-number</td>\n",
              "      <td>CVE</td>\n",
              "      <td>artifacts[] issues[] cves[] id CVE-number-number</td>\n",
              "      <td>1.0</td>\n",
              "      <td>0.0</td>\n",
              "      <td>0.0</td>\n",
              "    </tr>\n",
              "  </tbody>\n",
              "</table>\n",
              "</div>"
            ],
            "text/plain": [
              "                                                PATH              VALUE LABEL  \\\n",
              "0         data[] component_versions more_details cve  CVE-number-number   CVE   \n",
              "1  data[] component_versions more_details cves[] cve  CVE-number-number   CVE   \n",
              "2         data[] component_versions more_details cve  CVE-number-number   CVE   \n",
              "3  data[] component_versions more_details cves[] ...  CVE-number-number   CVE   \n",
              "4                     artifacts[] issues[] cves[] id  CVE-number-number   CVE   \n",
              "\n",
              "                                                text  CVE  DESCRIPTION  \\\n",
              "0  data[] component_versions more_details cve CVE...  1.0          0.0   \n",
              "1  data[] component_versions more_details cves[] ...  1.0          0.0   \n",
              "2  data[] component_versions more_details cve CVE...  1.0          0.0   \n",
              "3  data[] component_versions more_details cves[] ...  1.0          0.0   \n",
              "4   artifacts[] issues[] cves[] id CVE-number-number  1.0          0.0   \n",
              "\n",
              "   SEVERITY  \n",
              "0       0.0  \n",
              "1       0.0  \n",
              "2       0.0  \n",
              "3       0.0  \n",
              "4       0.0  "
            ]
          },
          "execution_count": 26,
          "metadata": {},
          "output_type": "execute_result"
        }
      ],
      "source": [
        "df.head()"
      ]
    },
    {
      "cell_type": "code",
      "execution_count": 27,
      "metadata": {
        "id": "Ot4eAtbplZCF"
      },
      "outputs": [],
      "source": [
        "df = df.dropna()"
      ]
    },
    {
      "cell_type": "code",
      "execution_count": 28,
      "metadata": {
        "id": "WjAKugC-K464"
      },
      "outputs": [],
      "source": [
        "#splitting data into train, validation and test sets. 80 10 10 split.\n",
        "train, val, test = np.split(df.sample(frac=1), [int(0.8*len(df)), int(0.9*len(df))])"
      ]
    },
    {
      "cell_type": "code",
      "execution_count": 29,
      "metadata": {
        "id": "p-SqEk50LJmQ"
      },
      "outputs": [],
      "source": [
        "# #Convert the pandas dataframe into tensorflow dataset\n",
        "# def df_to_dataset(dataframe, batch_size=1024):\n",
        "#   df = dataframe.copy()\n",
        "#   labels = df.pop('label')\n",
        "#   df = df[\"text\"]\n",
        "#   ds = tf.data.Dataset.from_tensor_slices((df, labels))\n",
        "#   ds = ds.batch(batch_size)\n",
        "#   ds = ds.prefetch(tf.data.AUTOTUNE)\n",
        "#   return ds\n",
        "def df_to_dataset(dataframe, batch_size=1024, input = 'text'):\n",
        "    df = dataframe.copy()\n",
        "    label_columns = columns # Adjust based on your label column names\n",
        "    labels = df[label_columns]\n",
        "    df = df.drop(label_columns, axis=1)  # Drop label columns\n",
        "    df = df[input]\n",
        "    ds = tf.data.Dataset.from_tensor_slices((df, labels))\n",
        "    ds = ds.batch(batch_size)\n",
        "    ds = ds.prefetch(tf.data.AUTOTUNE)\n",
        "    return ds"
      ]
    },
    {
      "cell_type": "code",
      "execution_count": 30,
      "metadata": {
        "id": "OzCciC8OLOUw"
      },
      "outputs": [],
      "source": [
        "train_data = df_to_dataset(train)\n",
        "valid_data = df_to_dataset(val)\n",
        "test_data = df_to_dataset(test)"
      ]
    },
    {
      "cell_type": "code",
      "execution_count": 31,
      "metadata": {
        "id": "5jrhDtY0O3Pd"
      },
      "outputs": [],
      "source": [
        "ds_labels = [labels for _, labels in train_data.unbatch()]"
      ]
    },
    {
      "cell_type": "code",
      "execution_count": 32,
      "metadata": {
        "id": "psklteALLQGP"
      },
      "outputs": [
        {
          "name": "stdout",
          "output_type": "stream",
          "text": [
            "WARNING:tensorflow:From c:\\Users\\Abdul Hakkam\\AppData\\Local\\Programs\\Python\\Python39\\lib\\site-packages\\keras\\src\\backend.py:873: The name tf.get_default_graph is deprecated. Please use tf.compat.v1.get_default_graph instead.\n",
            "\n",
            "WARNING:tensorflow:From c:\\Users\\Abdul Hakkam\\AppData\\Local\\Programs\\Python\\Python39\\lib\\site-packages\\keras\\src\\utils\\tf_utils.py:492: The name tf.ragged.RaggedTensorValue is deprecated. Please use tf.compat.v1.ragged.RaggedTensorValue instead.\n",
            "\n"
          ]
        }
      ],
      "source": [
        "#creating a text vectorization layer\n",
        "encoder = tf.keras.layers.TextVectorization(max_tokens=4001)\n",
        "encoder.adapt(train_data.map(lambda text, label: text))"
      ]
    },
    {
      "cell_type": "code",
      "execution_count": 33,
      "metadata": {
        "colab": {
          "base_uri": "https://localhost:8080/"
        },
        "id": "LVXVIl2gLlJP",
        "outputId": "807a550c-e1da-4def-b47b-13b655bfa571"
      },
      "outputs": [
        {
          "data": {
            "text/plain": [
              "array(['', '[UNK]', 'data', 'cves', 'cvenumbernumber', 'to', 'the', 'a',\n",
              "       'severity', 'in', 'issues', 'artifacts', 'allows', 'advisories',\n",
              "       'vulnerabilities', 'high', 'results', 'description', 'and',\n",
              "       'remote'], dtype='<U60')"
            ]
          },
          "execution_count": 33,
          "metadata": {},
          "output_type": "execute_result"
        }
      ],
      "source": [
        "#Ensuring the vocabulary produced by the encoder is correct\n",
        "vocab = np.array(encoder.get_vocabulary())\n",
        "vocab[:20]"
      ]
    },
    {
      "cell_type": "code",
      "execution_count": 90,
      "metadata": {
        "id": "9tP4Q32GLv0_"
      },
      "outputs": [],
      "source": [
        "CNN = tf.keras.Sequential([\n",
        "    encoder,\n",
        "    tf.keras.layers.Embedding(\n",
        "        input_dim=len(encoder.get_vocabulary()),\n",
        "        output_dim=32\n",
        "    ),\n",
        "    tf.keras.layers.Conv1D(filters=32, kernel_size=3, activation='relu', padding='same'),\n",
        "    tf.keras.layers.MaxPooling1D(pool_size=2),\n",
        "    tf.keras.layers.Dropout(0.4),\n",
        "    tf.keras.layers.GlobalMaxPooling1D(), \n",
        "    tf.keras.layers.Dense(3, activation='softmax')\n",
        "])"
      ]
    },
    {
      "cell_type": "code",
      "execution_count": 88,
      "metadata": {},
      "outputs": [],
      "source": [
        "CNN_V2 = tf.keras.Sequential([\n",
        "    encoder,\n",
        "    tf.keras.layers.Embedding(\n",
        "        input_dim=len(encoder.get_vocabulary()),\n",
        "        output_dim=64 \n",
        "    ),\n",
        "    tf.keras.layers.Conv1D(filters=64, kernel_size=3, activation='relu', padding='same'),\n",
        "    tf.keras.layers.BatchNormalization(),\n",
        "    tf.keras.layers.MaxPooling1D(pool_size=2),\n",
        "    tf.keras.layers.Conv1D(filters=128, kernel_size=3, activation='relu', padding='same'),\n",
        "    tf.keras.layers.MaxPooling1D(pool_size=2),\n",
        "    tf.keras.layers.Dropout(0.5),\n",
        "    tf.keras.layers.GlobalMaxPooling1D(),\n",
        "    tf.keras.layers.Dense(64, activation='relu'),  \n",
        "    tf.keras.layers.Dropout(0.5),  \n",
        "    tf.keras.layers.Dense(3, activation='softmax')\n",
        "])"
      ]
    },
    {
      "cell_type": "code",
      "execution_count": 35,
      "metadata": {},
      "outputs": [],
      "source": [
        "BiLSTM = tf.keras.Sequential([\n",
        "    encoder,\n",
        "    tf.keras.layers.Embedding(\n",
        "        input_dim=len(encoder.get_vocabulary()),\n",
        "        output_dim=32,\n",
        "        mask_zero=True\n",
        "    ),\n",
        "    tf.keras.layers.Bidirectional(tf.keras.layers.LSTM(32)),\n",
        "    tf.keras.layers.Dropout(0.4),\n",
        "    tf.keras.layers.Dense(3, activation='softmax')\n",
        "])"
      ]
    },
    {
      "cell_type": "code",
      "execution_count": 36,
      "metadata": {},
      "outputs": [],
      "source": [
        "#creating a model with embedding layer, LSTM layer and dense layer\n",
        "LSTM = tf.keras.Sequential([\n",
        "    encoder,\n",
        "    tf.keras.layers.Embedding(\n",
        "        input_dim=len(encoder.get_vocabulary()),\n",
        "        output_dim=32,\n",
        "        mask_zero=True\n",
        "    ),\n",
        "    tf.keras.layers.LSTM(32),\n",
        "    tf.keras.layers.Dropout(0.4),\n",
        "    tf.keras.layers.Dense(3, activation='softmax')\n",
        "])"
      ]
    },
    {
      "cell_type": "code",
      "execution_count": 89,
      "metadata": {},
      "outputs": [],
      "source": [
        "model = CNN"
      ]
    },
    {
      "cell_type": "code",
      "execution_count": 79,
      "metadata": {
        "id": "v6gT-7LtLyco"
      },
      "outputs": [],
      "source": [
        "model.compile(optimizer=tf.keras.optimizers.Adam(learning_rate=0.001),\n",
        "              loss=tf.keras.losses.CategoricalCrossentropy(),\n",
        "              metrics=['accuracy'])"
      ]
    },
    {
      "cell_type": "code",
      "execution_count": 39,
      "metadata": {
        "id": "oBh-cqdrfR5-"
      },
      "outputs": [],
      "source": [
        "early_stopping = tf.keras.callbacks.EarlyStopping(\n",
        "    min_delta=0.001,\n",
        "    patience=1,\n",
        "    restore_best_weights=True,\n",
        ")"
      ]
    },
    {
      "cell_type": "code",
      "execution_count": 80,
      "metadata": {
        "colab": {
          "base_uri": "https://localhost:8080/"
        },
        "id": "pWIgLfhhL2Sf",
        "outputId": "ccd749bc-423e-4556-9c33-f2a8ad0d56f6"
      },
      "outputs": [
        {
          "name": "stdout",
          "output_type": "stream",
          "text": [
            "Epoch 1/30\n"
          ]
        },
        {
          "name": "stdout",
          "output_type": "stream",
          "text": [
            "5/5 [==============================] - 2s 202ms/step - loss: 0.9739 - accuracy: 0.5352 - val_loss: 1.0879 - val_accuracy: 0.5376\n",
            "Epoch 2/30\n",
            "5/5 [==============================] - 1s 136ms/step - loss: 0.4097 - accuracy: 0.8405 - val_loss: 1.0811 - val_accuracy: 0.5609\n",
            "Epoch 3/30\n",
            "5/5 [==============================] - 1s 140ms/step - loss: 0.1872 - accuracy: 0.9539 - val_loss: 1.0711 - val_accuracy: 0.5760\n",
            "Epoch 4/30\n",
            "5/5 [==============================] - 1s 131ms/step - loss: 0.0635 - accuracy: 0.9917 - val_loss: 1.0568 - val_accuracy: 0.6578\n",
            "Epoch 5/30\n",
            "5/5 [==============================] - 1s 142ms/step - loss: 0.0229 - accuracy: 0.9973 - val_loss: 1.0390 - val_accuracy: 0.6578\n",
            "Epoch 6/30\n",
            "5/5 [==============================] - 1s 133ms/step - loss: 0.0093 - accuracy: 0.9987 - val_loss: 1.0201 - val_accuracy: 0.6578\n",
            "Epoch 7/30\n",
            "5/5 [==============================] - 1s 138ms/step - loss: 0.0068 - accuracy: 0.9987 - val_loss: 1.0014 - val_accuracy: 0.6578\n",
            "Epoch 8/30\n",
            "5/5 [==============================] - 1s 142ms/step - loss: 0.0055 - accuracy: 0.9992 - val_loss: 0.9825 - val_accuracy: 0.6578\n",
            "Epoch 9/30\n",
            "5/5 [==============================] - 1s 161ms/step - loss: 0.0036 - accuracy: 0.9992 - val_loss: 0.9644 - val_accuracy: 0.6578\n",
            "Epoch 10/30\n",
            "5/5 [==============================] - 1s 131ms/step - loss: 0.0019 - accuracy: 0.9996 - val_loss: 0.9476 - val_accuracy: 0.6578\n",
            "Epoch 11/30\n",
            "5/5 [==============================] - 1s 141ms/step - loss: 0.0021 - accuracy: 0.9996 - val_loss: 0.9312 - val_accuracy: 0.6578\n",
            "Epoch 12/30\n",
            "5/5 [==============================] - 1s 136ms/step - loss: 0.0021 - accuracy: 0.9992 - val_loss: 0.9144 - val_accuracy: 0.6578\n",
            "Epoch 13/30\n",
            "5/5 [==============================] - 1s 135ms/step - loss: 0.0021 - accuracy: 0.9996 - val_loss: 0.8973 - val_accuracy: 0.6578\n",
            "Epoch 14/30\n",
            "5/5 [==============================] - 1s 138ms/step - loss: 0.0012 - accuracy: 1.0000 - val_loss: 0.8808 - val_accuracy: 0.6578\n",
            "Epoch 15/30\n",
            "5/5 [==============================] - 1s 143ms/step - loss: 8.6763e-04 - accuracy: 1.0000 - val_loss: 0.8640 - val_accuracy: 0.6578\n",
            "Epoch 16/30\n",
            "5/5 [==============================] - 1s 137ms/step - loss: 0.0015 - accuracy: 0.9996 - val_loss: 0.8476 - val_accuracy: 0.6594\n",
            "Epoch 17/30\n",
            "5/5 [==============================] - 1s 145ms/step - loss: 0.0011 - accuracy: 0.9998 - val_loss: 0.8307 - val_accuracy: 0.6594\n",
            "Epoch 18/30\n",
            "5/5 [==============================] - 1s 147ms/step - loss: 8.3983e-04 - accuracy: 1.0000 - val_loss: 0.8128 - val_accuracy: 0.6611\n",
            "Epoch 19/30\n",
            "5/5 [==============================] - 1s 158ms/step - loss: 8.3091e-04 - accuracy: 1.0000 - val_loss: 0.7939 - val_accuracy: 0.6628\n",
            "Epoch 20/30\n",
            "5/5 [==============================] - 1s 135ms/step - loss: 0.0018 - accuracy: 0.9996 - val_loss: 0.7732 - val_accuracy: 0.6628\n",
            "Epoch 21/30\n",
            "5/5 [==============================] - 1s 149ms/step - loss: 9.0556e-04 - accuracy: 1.0000 - val_loss: 0.7531 - val_accuracy: 0.6678\n",
            "Epoch 22/30\n",
            "5/5 [==============================] - 1s 137ms/step - loss: 5.8361e-04 - accuracy: 0.9998 - val_loss: 0.7334 - val_accuracy: 0.6728\n",
            "Epoch 23/30\n",
            "5/5 [==============================] - 1s 137ms/step - loss: 9.0785e-04 - accuracy: 1.0000 - val_loss: 0.7135 - val_accuracy: 0.7145\n",
            "Epoch 24/30\n",
            "5/5 [==============================] - 1s 138ms/step - loss: 0.0012 - accuracy: 0.9996 - val_loss: 0.6937 - val_accuracy: 0.7730\n",
            "Epoch 25/30\n",
            "5/5 [==============================] - 1s 140ms/step - loss: 5.9925e-04 - accuracy: 1.0000 - val_loss: 0.6744 - val_accuracy: 0.8280\n",
            "Epoch 26/30\n",
            "5/5 [==============================] - 1s 134ms/step - loss: 7.6531e-04 - accuracy: 0.9998 - val_loss: 0.6552 - val_accuracy: 0.8865\n",
            "Epoch 27/30\n",
            "5/5 [==============================] - 1s 137ms/step - loss: 3.5956e-04 - accuracy: 1.0000 - val_loss: 0.6365 - val_accuracy: 0.9132\n",
            "Epoch 28/30\n",
            "5/5 [==============================] - 1s 137ms/step - loss: 5.3015e-04 - accuracy: 1.0000 - val_loss: 0.6182 - val_accuracy: 0.9399\n",
            "Epoch 29/30\n",
            "5/5 [==============================] - 1s 140ms/step - loss: 6.0405e-04 - accuracy: 1.0000 - val_loss: 0.6002 - val_accuracy: 0.9599\n",
            "Epoch 30/30\n",
            "5/5 [==============================] - 1s 147ms/step - loss: 7.2007e-04 - accuracy: 0.9998 - val_loss: 0.5828 - val_accuracy: 0.9683\n"
          ]
        }
      ],
      "source": [
        "#training the model\n",
        "history = model.fit(train_data, epochs=30,validation_data=valid_data, callbacks=[early_stopping])"
      ]
    },
    {
      "cell_type": "markdown",
      "metadata": {
        "id": "PLfBx9yQgCay"
      },
      "source": [
        "# Part D - Testing\n"
      ]
    },
    {
      "cell_type": "markdown",
      "metadata": {
        "id": "DEoZxmwXfR5_"
      },
      "source": [
        "keras model.evaluate returns loss and accuracy metrics for the model (https://keras.io/api/models/model_training_apis/#evaluate-method)"
      ]
    },
    {
      "cell_type": "code",
      "execution_count": 82,
      "metadata": {
        "colab": {
          "base_uri": "https://localhost:8080/"
        },
        "id": "yP0QyUxFlEZ3",
        "outputId": "f7d7f4ed-4a15-4219-a699-3f67e1c379b2"
      },
      "outputs": [
        {
          "name": "stdout",
          "output_type": "stream",
          "text": [
            "1/1 [==============================] - 0s 37ms/step - loss: 0.5672 - accuracy: 0.9800\n"
          ]
        },
        {
          "data": {
            "text/plain": [
              "[0.5671855211257935, 0.9799666404724121]"
            ]
          },
          "execution_count": 82,
          "metadata": {},
          "output_type": "execute_result"
        }
      ],
      "source": [
        "model.evaluate(test_data)"
      ]
    },
    {
      "cell_type": "markdown",
      "metadata": {
        "id": "u-89Zu_6fR5_"
      },
      "source": [
        "The history of the model during training is used to plot a graph of the validation accuracy and the training accuracy to check for overfitting issues"
      ]
    },
    {
      "cell_type": "code",
      "execution_count": 83,
      "metadata": {
        "colab": {
          "base_uri": "https://localhost:8080/",
          "height": 449
        },
        "id": "WTnuBgsGlXFn",
        "outputId": "33cf1667-e132-4bc2-d548-ee43f4cb7aed"
      },
      "outputs": [
        {
          "data": {
            "image/png": "[encoded data removed]",
            "text/plain": [
              "<Figure size 640x480 with 1 Axes>"
            ]
          },
          "metadata": {},
          "output_type": "display_data"
        }
      ],
      "source": [
        "plt.plot(history.history['accuracy'], label = \"Training accuracy\")\n",
        "plt.plot(history.history['val_accuracy'], label = \"Validation accuracy\")\n",
        "plt.ylabel(\"Accuracy\")\n",
        "plt.xlabel(\"Epoch\")\n",
        "plt.legend()\n",
        "plt.show()"
      ]
    },
    {
      "cell_type": "markdown",
      "metadata": {
        "id": "OhCleNd3fR6A"
      },
      "source": [
        "A confusion matrix is used to visualize how well the model performs for both classes. Here the test values are used to get predictions and are validated against the true labels."
      ]
    },
    {
      "cell_type": "code",
      "execution_count": 84,
      "metadata": {
        "colab": {
          "base_uri": "https://localhost:8080/",
          "height": 781
        },
        "id": "D4CiiORzlPu6",
        "outputId": "b22c7fbf-f0c9-4a8b-eba4-c60012a5676c"
      },
      "outputs": [
        {
          "name": "stdout",
          "output_type": "stream",
          "text": [
            "1/1 [==============================] - 0s 174ms/step\n",
            "[0 2 1 1 0 1 2 2 1 1 1 2 0 1 2 2 0 1 0 0 0 2 0 1 1 1 2 2 2 0 1 2 0 0 2 0 1\n",
            " 0 1 1 2 2 0 0 0 2 1 1 0 1 0 2 2 2 1 2 0 1 0 2 0 0 2 0 0 1 1 2 2 1 0 1 2 0\n",
            " 1 0 2 0 0 0 0 2 2 2 0 1 0 2 0 2 0 2 1 1 2 0 2 1 2 2 1 0 2 2 2 2 1 1 0 1 2\n",
            " 2 1 2 2 2 1 0 0 0 0 0 0 2 2 2 0 2 1 1 2 0 1 1 0 1 2 0 2 2 1 2 1 2 1 0 2 1\n",
            " 0 2 2 0 2 1 1 0 2 0 0 0 2 2 0 0 0 0 0 2 1 0 2 1 0 2 2 1 0 2 1 2 1 1 0 0 0\n",
            " 2 2 0 1 2 2 0 1 1 0 2 0 0 2 0 0 0 1 1 0 1 1 2 0 2 2 2 0 0 2 0 1 2 0 0 0 1\n",
            " 2 1 1 0 2 1 1 2 2 0 0 2 0 2 0 1 2 2 2 1 2 0 0 0 2 0 0 1 2 2 0 0 1 0 0 0 2\n",
            " 0 0 0 2 1 2 1 0 2 0 1 0 0 0 1 1 1 2 2 1 2 2 0 2 0 1 1 2 2 1 2 0 2 0 1 0 2\n",
            " 1 0 0 2 2 0 2 2 1 0 0 2 2 1 0 2 0 1 2 0 1 2 1 2 1 2 1 1 0 0 0 0 2 2 1 1 1\n",
            " 0 1 0 0 0 0 2 1 0 0 0 0 0 0 0 0 2 2 0 2 1 0 2 0 1 1 1 0 2 2 0 1 2 0 1 1 0\n",
            " 2 1 1 0 2 0 1 2 0 2 0 0 0 2 0 1 2 2 0 0 0 1 2 1 1 2 1 2 0 2 2 2 2 2 1 0 1\n",
            " 2 2 1 2 1 0 2 1 1 0 1 2 2 0 0 1 1 1 2 0 2 2 2 0 1 1 0 0 2 1 2 2 0 2 0 2 2\n",
            " 0 2 0 1 1 0 0 1 2 2 0 2 1 0 1 0 1 2 2 2 2 1 0 0 2 0 0 2 1 2 2 2 0 2 2 2 0\n",
            " 2 0 1 2 2 1 1 1 2 0 1 0 1 1 1 2 1 1 0 1 2 2 2 0 0 1 1 2 1 2 0 1 2 1 1 1 2\n",
            " 0 0 1 2 2 2 0 0 1 2 2 1 0 2 2 1 2 1 1 1 1 1 1 2 2 1 2 2 0 2 2 0 0 2 1 0 2\n",
            " 2 0 0 1 2 1 1 2 0 0 2 2 0 1 2 0 1 1 1 0 1 0 2 2 0 2 1 2 2 0 2 1 1 0 1 1 2\n",
            " 0 2 0 0 0 0 0]\n"
          ]
        },
        {
          "data": {
            "image/png": "[encoded data removed]",
            "text/plain": [
              "<Figure size 640x480 with 2 Axes>"
            ]
          },
          "metadata": {},
          "output_type": "display_data"
        }
      ],
      "source": [
        "from sklearn.metrics import confusion_matrix,recall_score,accuracy_score,precision_score\n",
        "import seaborn as sns\n",
        "\n",
        "# predicted_labels = np.argmax(model_outputs, axis=1)\n",
        "# Build and show confusion matrix\n",
        "y_test = np.concatenate([y for x, y in test_data], axis=0)\n",
        "true_labels = np.argmax(y_test, axis=1)\n",
        "y_pred = model.predict(test_data)\n",
        "predicted_labels = np.argmax(y_pred, axis=1)\n",
        "\n",
        "print(predicted_labels)\n",
        "\n",
        "cm = confusion_matrix(true_labels, predicted_labels)\n",
        "sns.heatmap(cm, annot=True, fmt='d')\n",
        "plt.xlabel('Predicted')\n",
        "plt.ylabel('Actual')\n",
        "plt.show()\n",
        "\n"
      ]
    },
    {
      "cell_type": "markdown",
      "metadata": {
        "id": "o3p3bhVFfR6A"
      },
      "source": [
        "The accuracy, precision and recall score are printed out here.\n",
        "- Accuracy measures the overall correctness of the model by calculating the ratio of correctly predicted instances to the total instances\n",
        "- Precision assesses the accuracy of the positive predictions made by the model\n",
        "- Recall measures the ability of the model to capture all the positive instances."
      ]
    },
    {
      "cell_type": "code",
      "execution_count": 48,
      "metadata": {},
      "outputs": [
        {
          "data": {
            "text/html": [
              "<style>#sk-container-id-2 {color: black;background-color: white;}#sk-container-id-2 pre{padding: 0;}#sk-container-id-2 div.sk-toggleable {background-color: white;}#sk-container-id-2 label.sk-toggleable__label {cursor: pointer;display: block;width: 100%;margin-bottom: 0;padding: 0.3em;box-sizing: border-box;text-align: center;}#sk-container-id-2 label.sk-toggleable__label-arrow:before {content: \"▸\";float: left;margin-right: 0.25em;color: #696969;}#sk-container-id-2 label.sk-toggleable__label-arrow:hover:before {color: black;}#sk-container-id-2 div.sk-estimator:hover label.sk-toggleable__label-arrow:before {color: black;}#sk-container-id-2 div.sk-toggleable__content {max-height: 0;max-width: 0;overflow: hidden;text-align: left;background-color: #f0f8ff;}#sk-container-id-2 div.sk-toggleable__content pre {margin: 0.2em;color: black;border-radius: 0.25em;background-color: #f0f8ff;}#sk-container-id-2 input.sk-toggleable__control:checked~div.sk-toggleable__content {max-height: 200px;max-width: 100%;overflow: auto;}#sk-container-id-2 input.sk-toggleable__control:checked~label.sk-toggleable__label-arrow:before {content: \"▾\";}#sk-container-id-2 div.sk-estimator input.sk-toggleable__control:checked~label.sk-toggleable__label {background-color: #d4ebff;}#sk-container-id-2 div.sk-label input.sk-toggleable__control:checked~label.sk-toggleable__label {background-color: #d4ebff;}#sk-container-id-2 input.sk-hidden--visually {border: 0;clip: rect(1px 1px 1px 1px);clip: rect(1px, 1px, 1px, 1px);height: 1px;margin: -1px;overflow: hidden;padding: 0;position: absolute;width: 1px;}#sk-container-id-2 div.sk-estimator {font-family: monospace;background-color: #f0f8ff;border: 1px dotted black;border-radius: 0.25em;box-sizing: border-box;margin-bottom: 0.5em;}#sk-container-id-2 div.sk-estimator:hover {background-color: #d4ebff;}#sk-container-id-2 div.sk-parallel-item::after {content: \"\";width: 100%;border-bottom: 1px solid gray;flex-grow: 1;}#sk-container-id-2 div.sk-label:hover label.sk-toggleable__label {background-color: #d4ebff;}#sk-container-id-2 div.sk-serial::before {content: \"\";position: absolute;border-left: 1px solid gray;box-sizing: border-box;top: 0;bottom: 0;left: 50%;z-index: 0;}#sk-container-id-2 div.sk-serial {display: flex;flex-direction: column;align-items: center;background-color: white;padding-right: 0.2em;padding-left: 0.2em;position: relative;}#sk-container-id-2 div.sk-item {position: relative;z-index: 1;}#sk-container-id-2 div.sk-parallel {display: flex;align-items: stretch;justify-content: center;background-color: white;position: relative;}#sk-container-id-2 div.sk-item::before, #sk-container-id-2 div.sk-parallel-item::before {content: \"\";position: absolute;border-left: 1px solid gray;box-sizing: border-box;top: 0;bottom: 0;left: 50%;z-index: -1;}#sk-container-id-2 div.sk-parallel-item {display: flex;flex-direction: column;z-index: 1;position: relative;background-color: white;}#sk-container-id-2 div.sk-parallel-item:first-child::after {align-self: flex-end;width: 50%;}#sk-container-id-2 div.sk-parallel-item:last-child::after {align-self: flex-start;width: 50%;}#sk-container-id-2 div.sk-parallel-item:only-child::after {width: 0;}#sk-container-id-2 div.sk-dashed-wrapped {border: 1px dashed gray;margin: 0 0.4em 0.5em 0.4em;box-sizing: border-box;padding-bottom: 0.4em;background-color: white;}#sk-container-id-2 div.sk-label label {font-family: monospace;font-weight: bold;display: inline-block;line-height: 1.2em;}#sk-container-id-2 div.sk-label-container {text-align: center;}#sk-container-id-2 div.sk-container {/* jupyter's `normalize.less` sets `[hidden] { display: none; }` but bootstrap.min.css set `[hidden] { display: none !important; }` so we also need the `!important` here to be able to override the default hidden behavior on the sphinx rendered scikit-learn.org. See: https://github.com/scikit-learn/scikit-learn/issues/21755 */display: inline-block !important;position: relative;}#sk-container-id-2 div.sk-text-repr-fallback {display: none;}</style><div id=\"sk-container-id-2\" class=\"sk-top-container\"><div class=\"sk-text-repr-fallback\"><pre>IsolationForest(contamination=0.03, n_estimators=300, random_state=42)</pre><b>In a Jupyter environment, please rerun this cell to show the HTML representation or trust the notebook. <br />On GitHub, the HTML representation is unable to render, please try loading this page with nbviewer.org.</b></div><div class=\"sk-container\" hidden><div class=\"sk-item\"><div class=\"sk-estimator sk-toggleable\"><input class=\"sk-toggleable__control sk-hidden--visually\" id=\"sk-estimator-id-2\" type=\"checkbox\" checked><label for=\"sk-estimator-id-2\" class=\"sk-toggleable__label sk-toggleable__label-arrow\">IsolationForest</label><div class=\"sk-toggleable__content\"><pre>IsolationForest(contamination=0.03, n_estimators=300, random_state=42)</pre></div></div></div></div></div>"
            ],
            "text/plain": [
              "IsolationForest(contamination=0.03, n_estimators=300, random_state=42)"
            ]
          },
          "execution_count": 48,
          "metadata": {},
          "output_type": "execute_result"
        }
      ],
      "source": [
        "from sklearn.ensemble import IsolationForest\n",
        "\n",
        "iso_forest = IsolationForest(n_estimators=300, max_samples='auto', contamination=float(0.03), random_state=42)\n",
        "iso_forest.fit(vectorized_texts)"
      ]
    },
    {
      "cell_type": "code",
      "execution_count": 85,
      "metadata": {
        "colab": {
          "base_uri": "https://localhost:8080/"
        },
        "id": "lBeafMUu7NVw",
        "outputId": "87943824-0d6f-47c7-83c1-53988c14058f"
      },
      "outputs": [
        {
          "name": "stdout",
          "output_type": "stream",
          "text": [
            "False\n"
          ]
        }
      ],
      "source": [
        "tokenized_test = [text.split() for text in ['vulnerabilities[] id severity low']]\n",
        "vectorized_test = [average_word_vectors(text, w2vModel, vocab_wv, 100) for text in tokenized_test]\n",
        "is_outlier = iso_forest.predict(vectorized_test)[0] == -1\n",
        "print(is_outlier)"
      ]
    },
    {
      "cell_type": "code",
      "execution_count": 86,
      "metadata": {
        "colab": {
          "base_uri": "https://localhost:8080/"
        },
        "id": "u_oATOxL8Ts_",
        "outputId": "0173d084-024f-4b0b-adc8-69be3191b8a8"
      },
      "outputs": [
        {
          "ename": "AbortedError",
          "evalue": "Graph execution error:\n\nDetected at node sequential_5/max_pooling1d_6/MaxPool defined at (most recent call last):\n  File \"c:\\Users\\Abdul Hakkam\\AppData\\Local\\Programs\\Python\\Python39\\lib\\runpy.py\", line 197, in _run_module_as_main\n\n  File \"c:\\Users\\Abdul Hakkam\\AppData\\Local\\Programs\\Python\\Python39\\lib\\runpy.py\", line 87, in _run_code\n\n  File \"C:\\Users\\Abdul Hakkam\\AppData\\Roaming\\Python\\Python39\\site-packages\\ipykernel_launcher.py\", line 17, in <module>\n\n  File \"C:\\Users\\Abdul Hakkam\\AppData\\Roaming\\Python\\Python39\\site-packages\\traitlets\\config\\application.py\", line 1053, in launch_instance\n\n  File \"C:\\Users\\Abdul Hakkam\\AppData\\Roaming\\Python\\Python39\\site-packages\\ipykernel\\kernelapp.py\", line 737, in start\n\n  File \"C:\\Users\\Abdul Hakkam\\AppData\\Roaming\\Python\\Python39\\site-packages\\tornado\\platform\\asyncio.py\", line 195, in start\n\n  File \"c:\\Users\\Abdul Hakkam\\AppData\\Local\\Programs\\Python\\Python39\\lib\\asyncio\\base_events.py\", line 596, in run_forever\n\n  File \"c:\\Users\\Abdul Hakkam\\AppData\\Local\\Programs\\Python\\Python39\\lib\\asyncio\\base_events.py\", line 1890, in _run_once\n\n  File \"c:\\Users\\Abdul Hakkam\\AppData\\Local\\Programs\\Python\\Python39\\lib\\asyncio\\events.py\", line 80, in _run\n\n  File \"C:\\Users\\Abdul Hakkam\\AppData\\Roaming\\Python\\Python39\\site-packages\\ipykernel\\kernelbase.py\", line 524, in dispatch_queue\n\n  File \"C:\\Users\\Abdul Hakkam\\AppData\\Roaming\\Python\\Python39\\site-packages\\ipykernel\\kernelbase.py\", line 513, in process_one\n\n  File \"C:\\Users\\Abdul Hakkam\\AppData\\Roaming\\Python\\Python39\\site-packages\\ipykernel\\kernelbase.py\", line 418, in dispatch_shell\n\n  File \"C:\\Users\\Abdul Hakkam\\AppData\\Roaming\\Python\\Python39\\site-packages\\ipykernel\\kernelbase.py\", line 758, in execute_request\n\n  File \"C:\\Users\\Abdul Hakkam\\AppData\\Roaming\\Python\\Python39\\site-packages\\ipykernel\\ipkernel.py\", line 426, in do_execute\n\n  File \"C:\\Users\\Abdul Hakkam\\AppData\\Roaming\\Python\\Python39\\site-packages\\ipykernel\\zmqshell.py\", line 549, in run_cell\n\n  File \"C:\\Users\\Abdul Hakkam\\AppData\\Roaming\\Python\\Python39\\site-packages\\IPython\\core\\interactiveshell.py\", line 3046, in run_cell\n\n  File \"C:\\Users\\Abdul Hakkam\\AppData\\Roaming\\Python\\Python39\\site-packages\\IPython\\core\\interactiveshell.py\", line 3101, in _run_cell\n\n  File \"C:\\Users\\Abdul Hakkam\\AppData\\Roaming\\Python\\Python39\\site-packages\\IPython\\core\\async_helpers.py\", line 129, in _pseudo_sync_runner\n\n  File \"C:\\Users\\Abdul Hakkam\\AppData\\Roaming\\Python\\Python39\\site-packages\\IPython\\core\\interactiveshell.py\", line 3306, in run_cell_async\n\n  File \"C:\\Users\\Abdul Hakkam\\AppData\\Roaming\\Python\\Python39\\site-packages\\IPython\\core\\interactiveshell.py\", line 3488, in run_ast_nodes\n\n  File \"C:\\Users\\Abdul Hakkam\\AppData\\Roaming\\Python\\Python39\\site-packages\\IPython\\core\\interactiveshell.py\", line 3548, in run_code\n\n  File \"C:\\Users\\Abdul Hakkam\\AppData\\Local\\Temp\\ipykernel_22380\\3584312805.py\", line 1, in <module>\n\n  File \"c:\\Users\\Abdul Hakkam\\AppData\\Local\\Programs\\Python\\Python39\\lib\\site-packages\\keras\\src\\utils\\traceback_utils.py\", line 65, in error_handler\n\n  File \"c:\\Users\\Abdul Hakkam\\AppData\\Local\\Programs\\Python\\Python39\\lib\\site-packages\\keras\\src\\engine\\training.py\", line 2655, in predict\n\n  File \"c:\\Users\\Abdul Hakkam\\AppData\\Local\\Programs\\Python\\Python39\\lib\\site-packages\\keras\\src\\engine\\training.py\", line 2440, in predict_function\n\n  File \"c:\\Users\\Abdul Hakkam\\AppData\\Local\\Programs\\Python\\Python39\\lib\\site-packages\\keras\\src\\engine\\training.py\", line 2425, in step_function\n\n  File \"c:\\Users\\Abdul Hakkam\\AppData\\Local\\Programs\\Python\\Python39\\lib\\site-packages\\keras\\src\\engine\\training.py\", line 2413, in run_step\n\n  File \"c:\\Users\\Abdul Hakkam\\AppData\\Local\\Programs\\Python\\Python39\\lib\\site-packages\\keras\\src\\engine\\training.py\", line 2381, in predict_step\n\n  File \"c:\\Users\\Abdul Hakkam\\AppData\\Local\\Programs\\Python\\Python39\\lib\\site-packages\\keras\\src\\utils\\traceback_utils.py\", line 65, in error_handler\n\n  File \"c:\\Users\\Abdul Hakkam\\AppData\\Local\\Programs\\Python\\Python39\\lib\\site-packages\\keras\\src\\engine\\training.py\", line 590, in __call__\n\n  File \"c:\\Users\\Abdul Hakkam\\AppData\\Local\\Programs\\Python\\Python39\\lib\\site-packages\\keras\\src\\utils\\traceback_utils.py\", line 65, in error_handler\n\n  File \"c:\\Users\\Abdul Hakkam\\AppData\\Local\\Programs\\Python\\Python39\\lib\\site-packages\\keras\\src\\engine\\base_layer.py\", line 1149, in __call__\n\n  File \"c:\\Users\\Abdul Hakkam\\AppData\\Local\\Programs\\Python\\Python39\\lib\\site-packages\\keras\\src\\utils\\traceback_utils.py\", line 96, in error_handler\n\n  File \"c:\\Users\\Abdul Hakkam\\AppData\\Local\\Programs\\Python\\Python39\\lib\\site-packages\\keras\\src\\engine\\sequential.py\", line 398, in call\n\n  File \"c:\\Users\\Abdul Hakkam\\AppData\\Local\\Programs\\Python\\Python39\\lib\\site-packages\\keras\\src\\engine\\functional.py\", line 515, in call\n\n  File \"c:\\Users\\Abdul Hakkam\\AppData\\Local\\Programs\\Python\\Python39\\lib\\site-packages\\keras\\src\\engine\\functional.py\", line 672, in _run_internal_graph\n\n  File \"c:\\Users\\Abdul Hakkam\\AppData\\Local\\Programs\\Python\\Python39\\lib\\site-packages\\keras\\src\\utils\\traceback_utils.py\", line 65, in error_handler\n\n  File \"c:\\Users\\Abdul Hakkam\\AppData\\Local\\Programs\\Python\\Python39\\lib\\site-packages\\keras\\src\\engine\\base_layer.py\", line 1149, in __call__\n\n  File \"c:\\Users\\Abdul Hakkam\\AppData\\Local\\Programs\\Python\\Python39\\lib\\site-packages\\keras\\src\\utils\\traceback_utils.py\", line 96, in error_handler\n\n  File \"c:\\Users\\Abdul Hakkam\\AppData\\Local\\Programs\\Python\\Python39\\lib\\site-packages\\keras\\src\\layers\\pooling\\base_pooling1d.py\", line 76, in call\n\n  File \"c:\\Users\\Abdul Hakkam\\AppData\\Local\\Programs\\Python\\Python39\\lib\\site-packages\\keras\\src\\backend.py\", line 6642, in pool2d\n\nCompute received an exception:Status: 2, message: could not create a descriptor for a pooling forward propagation primitive, in file tensorflow/core/kernels/mkl/mkl_maxpooling_op.cc:211\n\t [[{{node sequential_5/max_pooling1d_6/MaxPool}}]] [Op:__inference_predict_function_45214]",
          "output_type": "error",
          "traceback": [
            "\u001b[1;31m---------------------------------------------------------------------------\u001b[0m",
            "\u001b[1;31mAbortedError\u001b[0m                              Traceback (most recent call last)",
            "Cell \u001b[1;32mIn[86], line 1\u001b[0m\n\u001b[1;32m----> 1\u001b[0m prediction \u001b[38;5;241m=\u001b[39m \u001b[43mmodel\u001b[49m\u001b[38;5;241;43m.\u001b[39;49m\u001b[43mpredict\u001b[49m\u001b[43m(\u001b[49m\u001b[43m[\u001b[49m\u001b[38;5;124;43m\"\u001b[39;49m\u001b[38;5;124;43mvulnerabilities[] severity low\u001b[39;49m\u001b[38;5;124;43m\"\u001b[39;49m\u001b[43m]\u001b[49m\u001b[43m)\u001b[49m\n\u001b[0;32m      2\u001b[0m \u001b[38;5;28mprint\u001b[39m(prediction)\n",
            "File \u001b[1;32mc:\\Users\\Abdul Hakkam\\AppData\\Local\\Programs\\Python\\Python39\\lib\\site-packages\\keras\\src\\utils\\traceback_utils.py:70\u001b[0m, in \u001b[0;36mfilter_traceback.<locals>.error_handler\u001b[1;34m(*args, **kwargs)\u001b[0m\n\u001b[0;32m     67\u001b[0m     filtered_tb \u001b[38;5;241m=\u001b[39m _process_traceback_frames(e\u001b[38;5;241m.\u001b[39m__traceback__)\n\u001b[0;32m     68\u001b[0m     \u001b[38;5;66;03m# To get the full stack trace, call:\u001b[39;00m\n\u001b[0;32m     69\u001b[0m     \u001b[38;5;66;03m# `tf.debugging.disable_traceback_filtering()`\u001b[39;00m\n\u001b[1;32m---> 70\u001b[0m     \u001b[38;5;28;01mraise\u001b[39;00m e\u001b[38;5;241m.\u001b[39mwith_traceback(filtered_tb) \u001b[38;5;28;01mfrom\u001b[39;00m \u001b[38;5;28;01mNone\u001b[39;00m\n\u001b[0;32m     71\u001b[0m \u001b[38;5;28;01mfinally\u001b[39;00m:\n\u001b[0;32m     72\u001b[0m     \u001b[38;5;28;01mdel\u001b[39;00m filtered_tb\n",
            "File \u001b[1;32mc:\\Users\\Abdul Hakkam\\AppData\\Local\\Programs\\Python\\Python39\\lib\\site-packages\\tensorflow\\python\\eager\\execute.py:53\u001b[0m, in \u001b[0;36mquick_execute\u001b[1;34m(op_name, num_outputs, inputs, attrs, ctx, name)\u001b[0m\n\u001b[0;32m     51\u001b[0m \u001b[38;5;28;01mtry\u001b[39;00m:\n\u001b[0;32m     52\u001b[0m   ctx\u001b[38;5;241m.\u001b[39mensure_initialized()\n\u001b[1;32m---> 53\u001b[0m   tensors \u001b[38;5;241m=\u001b[39m pywrap_tfe\u001b[38;5;241m.\u001b[39mTFE_Py_Execute(ctx\u001b[38;5;241m.\u001b[39m_handle, device_name, op_name,\n\u001b[0;32m     54\u001b[0m                                       inputs, attrs, num_outputs)\n\u001b[0;32m     55\u001b[0m \u001b[38;5;28;01mexcept\u001b[39;00m core\u001b[38;5;241m.\u001b[39m_NotOkStatusException \u001b[38;5;28;01mas\u001b[39;00m e:\n\u001b[0;32m     56\u001b[0m   \u001b[38;5;28;01mif\u001b[39;00m name \u001b[38;5;129;01mis\u001b[39;00m \u001b[38;5;129;01mnot\u001b[39;00m \u001b[38;5;28;01mNone\u001b[39;00m:\n",
            "\u001b[1;31mAbortedError\u001b[0m: Graph execution error:\n\nDetected at node sequential_5/max_pooling1d_6/MaxPool defined at (most recent call last):\n  File \"c:\\Users\\Abdul Hakkam\\AppData\\Local\\Programs\\Python\\Python39\\lib\\runpy.py\", line 197, in _run_module_as_main\n\n  File \"c:\\Users\\Abdul Hakkam\\AppData\\Local\\Programs\\Python\\Python39\\lib\\runpy.py\", line 87, in _run_code\n\n  File \"C:\\Users\\Abdul Hakkam\\AppData\\Roaming\\Python\\Python39\\site-packages\\ipykernel_launcher.py\", line 17, in <module>\n\n  File \"C:\\Users\\Abdul Hakkam\\AppData\\Roaming\\Python\\Python39\\site-packages\\traitlets\\config\\application.py\", line 1053, in launch_instance\n\n  File \"C:\\Users\\Abdul Hakkam\\AppData\\Roaming\\Python\\Python39\\site-packages\\ipykernel\\kernelapp.py\", line 737, in start\n\n  File \"C:\\Users\\Abdul Hakkam\\AppData\\Roaming\\Python\\Python39\\site-packages\\tornado\\platform\\asyncio.py\", line 195, in start\n\n  File \"c:\\Users\\Abdul Hakkam\\AppData\\Local\\Programs\\Python\\Python39\\lib\\asyncio\\base_events.py\", line 596, in run_forever\n\n  File \"c:\\Users\\Abdul Hakkam\\AppData\\Local\\Programs\\Python\\Python39\\lib\\asyncio\\base_events.py\", line 1890, in _run_once\n\n  File \"c:\\Users\\Abdul Hakkam\\AppData\\Local\\Programs\\Python\\Python39\\lib\\asyncio\\events.py\", line 80, in _run\n\n  File \"C:\\Users\\Abdul Hakkam\\AppData\\Roaming\\Python\\Python39\\site-packages\\ipykernel\\kernelbase.py\", line 524, in dispatch_queue\n\n  File \"C:\\Users\\Abdul Hakkam\\AppData\\Roaming\\Python\\Python39\\site-packages\\ipykernel\\kernelbase.py\", line 513, in process_one\n\n  File \"C:\\Users\\Abdul Hakkam\\AppData\\Roaming\\Python\\Python39\\site-packages\\ipykernel\\kernelbase.py\", line 418, in dispatch_shell\n\n  File \"C:\\Users\\Abdul Hakkam\\AppData\\Roaming\\Python\\Python39\\site-packages\\ipykernel\\kernelbase.py\", line 758, in execute_request\n\n  File \"C:\\Users\\Abdul Hakkam\\AppData\\Roaming\\Python\\Python39\\site-packages\\ipykernel\\ipkernel.py\", line 426, in do_execute\n\n  File \"C:\\Users\\Abdul Hakkam\\AppData\\Roaming\\Python\\Python39\\site-packages\\ipykernel\\zmqshell.py\", line 549, in run_cell\n\n  File \"C:\\Users\\Abdul Hakkam\\AppData\\Roaming\\Python\\Python39\\site-packages\\IPython\\core\\interactiveshell.py\", line 3046, in run_cell\n\n  File \"C:\\Users\\Abdul Hakkam\\AppData\\Roaming\\Python\\Python39\\site-packages\\IPython\\core\\interactiveshell.py\", line 3101, in _run_cell\n\n  File \"C:\\Users\\Abdul Hakkam\\AppData\\Roaming\\Python\\Python39\\site-packages\\IPython\\core\\async_helpers.py\", line 129, in _pseudo_sync_runner\n\n  File \"C:\\Users\\Abdul Hakkam\\AppData\\Roaming\\Python\\Python39\\site-packages\\IPython\\core\\interactiveshell.py\", line 3306, in run_cell_async\n\n  File \"C:\\Users\\Abdul Hakkam\\AppData\\Roaming\\Python\\Python39\\site-packages\\IPython\\core\\interactiveshell.py\", line 3488, in run_ast_nodes\n\n  File \"C:\\Users\\Abdul Hakkam\\AppData\\Roaming\\Python\\Python39\\site-packages\\IPython\\core\\interactiveshell.py\", line 3548, in run_code\n\n  File \"C:\\Users\\Abdul Hakkam\\AppData\\Local\\Temp\\ipykernel_22380\\3584312805.py\", line 1, in <module>\n\n  File \"c:\\Users\\Abdul Hakkam\\AppData\\Local\\Programs\\Python\\Python39\\lib\\site-packages\\keras\\src\\utils\\traceback_utils.py\", line 65, in error_handler\n\n  File \"c:\\Users\\Abdul Hakkam\\AppData\\Local\\Programs\\Python\\Python39\\lib\\site-packages\\keras\\src\\engine\\training.py\", line 2655, in predict\n\n  File \"c:\\Users\\Abdul Hakkam\\AppData\\Local\\Programs\\Python\\Python39\\lib\\site-packages\\keras\\src\\engine\\training.py\", line 2440, in predict_function\n\n  File \"c:\\Users\\Abdul Hakkam\\AppData\\Local\\Programs\\Python\\Python39\\lib\\site-packages\\keras\\src\\engine\\training.py\", line 2425, in step_function\n\n  File \"c:\\Users\\Abdul Hakkam\\AppData\\Local\\Programs\\Python\\Python39\\lib\\site-packages\\keras\\src\\engine\\training.py\", line 2413, in run_step\n\n  File \"c:\\Users\\Abdul Hakkam\\AppData\\Local\\Programs\\Python\\Python39\\lib\\site-packages\\keras\\src\\engine\\training.py\", line 2381, in predict_step\n\n  File \"c:\\Users\\Abdul Hakkam\\AppData\\Local\\Programs\\Python\\Python39\\lib\\site-packages\\keras\\src\\utils\\traceback_utils.py\", line 65, in error_handler\n\n  File \"c:\\Users\\Abdul Hakkam\\AppData\\Local\\Programs\\Python\\Python39\\lib\\site-packages\\keras\\src\\engine\\training.py\", line 590, in __call__\n\n  File \"c:\\Users\\Abdul Hakkam\\AppData\\Local\\Programs\\Python\\Python39\\lib\\site-packages\\keras\\src\\utils\\traceback_utils.py\", line 65, in error_handler\n\n  File \"c:\\Users\\Abdul Hakkam\\AppData\\Local\\Programs\\Python\\Python39\\lib\\site-packages\\keras\\src\\engine\\base_layer.py\", line 1149, in __call__\n\n  File \"c:\\Users\\Abdul Hakkam\\AppData\\Local\\Programs\\Python\\Python39\\lib\\site-packages\\keras\\src\\utils\\traceback_utils.py\", line 96, in error_handler\n\n  File \"c:\\Users\\Abdul Hakkam\\AppData\\Local\\Programs\\Python\\Python39\\lib\\site-packages\\keras\\src\\engine\\sequential.py\", line 398, in call\n\n  File \"c:\\Users\\Abdul Hakkam\\AppData\\Local\\Programs\\Python\\Python39\\lib\\site-packages\\keras\\src\\engine\\functional.py\", line 515, in call\n\n  File \"c:\\Users\\Abdul Hakkam\\AppData\\Local\\Programs\\Python\\Python39\\lib\\site-packages\\keras\\src\\engine\\functional.py\", line 672, in _run_internal_graph\n\n  File \"c:\\Users\\Abdul Hakkam\\AppData\\Local\\Programs\\Python\\Python39\\lib\\site-packages\\keras\\src\\utils\\traceback_utils.py\", line 65, in error_handler\n\n  File \"c:\\Users\\Abdul Hakkam\\AppData\\Local\\Programs\\Python\\Python39\\lib\\site-packages\\keras\\src\\engine\\base_layer.py\", line 1149, in __call__\n\n  File \"c:\\Users\\Abdul Hakkam\\AppData\\Local\\Programs\\Python\\Python39\\lib\\site-packages\\keras\\src\\utils\\traceback_utils.py\", line 96, in error_handler\n\n  File \"c:\\Users\\Abdul Hakkam\\AppData\\Local\\Programs\\Python\\Python39\\lib\\site-packages\\keras\\src\\layers\\pooling\\base_pooling1d.py\", line 76, in call\n\n  File \"c:\\Users\\Abdul Hakkam\\AppData\\Local\\Programs\\Python\\Python39\\lib\\site-packages\\keras\\src\\backend.py\", line 6642, in pool2d\n\nCompute received an exception:Status: 2, message: could not create a descriptor for a pooling forward propagation primitive, in file tensorflow/core/kernels/mkl/mkl_maxpooling_op.cc:211\n\t [[{{node sequential_5/max_pooling1d_6/MaxPool}}]] [Op:__inference_predict_function_45214]"
          ]
        }
      ],
      "source": [
        "prediction = model.predict([\"vulnerabilities[] severity low\"])\n",
        "print(prediction)"
      ]
    },
    {
      "cell_type": "code",
      "execution_count": null,
      "metadata": {
        "id": "-D2Eus0jNtXO"
      },
      "outputs": [
        {
          "name": "stdout",
          "output_type": "stream",
          "text": [
            "INFO:tensorflow:Assets written to: classifier_v1_CNN\\assets\n"
          ]
        },
        {
          "name": "stderr",
          "output_type": "stream",
          "text": [
            "INFO:tensorflow:Assets written to: classifier_v1_CNN\\assets\n"
          ]
        }
      ],
      "source": [
        "# import joblib\n",
        "# joblib.dump(iso_forest, 'models/anomaly_detector_v3.joblib')\n",
        "\n",
        "# joblib.dump(w2vModel, 'word2vec_lower.joblib')\n",
        "model.save('classifier_v1_CNN')"
      ]
    }
  ],
  "metadata": {
    "accelerator": "GPU",
    "colab": {
      "gpuType": "T4",
      "provenance": []
    },
    "kernelspec": {
      "display_name": "Python 3 (ipykernel)",
      "language": "python",
      "name": "python3"
    },
    "language_info": {
      "codemirror_mode": {
        "name": "ipython",
        "version": 3
      },
      "file_extension": ".py",
      "mimetype": "text/x-python",
      "name": "python",
      "nbconvert_exporter": "python",
      "pygments_lexer": "ipython3",
      "version": "3.9.1"
    }
  },
  "nbformat": 4,
  "nbformat_minor": 0
}
